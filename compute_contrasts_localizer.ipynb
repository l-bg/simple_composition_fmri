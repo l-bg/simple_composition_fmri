{
 "cells": [
  {
   "cell_type": "markdown",
   "metadata": {},
   "source": [
    "# An fMRI study of composition in noun and verb phrases\n",
    "### Bonnasse-Gahot, Bemis, Perez-Guevara, Dehaene, Pallier\n",
    "Compute contrasts for all subjects, and group, for the localizer."
   ]
  },
  {
   "cell_type": "code",
   "execution_count": 1,
   "metadata": {},
   "outputs": [],
   "source": [
    "import numpy as np\n",
    "import os.path as op\n",
    "from joblib import load\n",
    "import nibabel as nib\n",
    "\n",
    "import simpcomp as sc\n",
    "\n",
    "output_path = op.join(sc.localizer_folder, 'contrasts')\n",
    "sc.make_dir(output_path)"
   ]
  },
  {
   "cell_type": "code",
   "execution_count": 2,
   "metadata": {},
   "outputs": [],
   "source": [
    "for sub_id in sc.subject_list:\n",
    "    sub_glm_filename = op.join(sc.localizer_folder, 'glm', 'glm_{}'.format(sub_id))\n",
    "    fmri_glm = load(sub_glm_filename)\n",
    "\n",
    "    design_matrix = fmri_glm.design_matrices_[0]\n",
    "    contrast_matrix = np.eye(design_matrix.shape[1])\n",
    "    contrasts_basic = dict([(column, contrast_matrix[i])\n",
    "                      for i, column in enumerate(design_matrix.columns)])\n",
    "\n",
    "    contrasts = {}\n",
    "    contrasts['sentence_pseudo'] = contrasts_basic['sentence'] - contrasts_basic['pseudo']\n",
    "\n",
    "    for name, val in contrasts.items():\n",
    "        z_map = fmri_glm.compute_contrast(val, output_type='z_score')\n",
    "        t_map = fmri_glm.compute_contrast(val, output_type='stat')\n",
    "        eff_map = fmri_glm.compute_contrast(val, output_type='effect_size')\n",
    "        nib.save(z_map, op.join(output_path, '{}_{}_zmap.nii.gz'.format(name, sub_id)))\n",
    "        nib.save(t_map, op.join(output_path,'{}_{}_tmap.nii.gz'.format(name, sub_id)))\n",
    "        nib.save(eff_map, op.join(output_path, '{}_{}_effsize.nii.gz'.format(name, sub_id)))"
   ]
  },
  {
   "cell_type": "code",
   "execution_count": 3,
   "metadata": {},
   "outputs": [],
   "source": [
    "# group analysis\n",
    "for contrast in contrasts:\n",
    "    maps = [op.join(output_path, '{}_{}_effsize.nii.gz'.format(contrast,sub_tmp)) for sub_tmp in sc.subject_list]   \n",
    "    if maps == []:\n",
    "        print(\"%s : no file with this mask\" % mask)\n",
    "    else:\n",
    "        sc.create_one_sample_t_test(contrast, maps, output_path)  "
   ]
  }
 ],
 "metadata": {
  "anaconda-cloud": {},
  "kernelspec": {
   "display_name": "Python 3",
   "language": "python",
   "name": "python3"
  },
  "language_info": {
   "codemirror_mode": {
    "name": "ipython",
    "version": 3
   },
   "file_extension": ".py",
   "mimetype": "text/x-python",
   "name": "python",
   "nbconvert_exporter": "python",
   "pygments_lexer": "ipython3",
   "version": "3.6.5"
  }
 },
 "nbformat": 4,
 "nbformat_minor": 1
}
