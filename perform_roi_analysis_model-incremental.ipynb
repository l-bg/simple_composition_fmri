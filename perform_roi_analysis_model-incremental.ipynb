{
 "cells": [
  {
   "cell_type": "markdown",
   "metadata": {},
   "source": [
    "# An fMRI study of composition in noun and verb phrases\n",
    "### Bonnasse-Gahot, Bemis, Perez-Guevara, Dehaene, Pallier\n",
    "Perform the ROI analysis."
   ]
  },
  {
   "cell_type": "code",
   "execution_count": 1,
   "metadata": {},
   "outputs": [],
   "source": [
    "# coding: utf-8\n",
    "import numpy as np\n",
    "import pandas as pd\n",
    "import os.path as op\n",
    "import glob\n",
    "from joblib import load\n",
    "import nibabel as nib\n",
    "import simpcomp as sc\n",
    "\n",
    "from nilearn.masking import apply_mask\n",
    "\n",
    "# number of 'best' voxels to consider \n",
    "# (as defined by the one with largest effect size in the localizer)\n",
    "n_best = 300\n",
    "\n",
    "token_type = ['wvp', 'wnp', 'wvl', 'wnl']\n",
    "\n",
    "results = pd.DataFrame(columns=['subject','token_type','ROI','beta'])\n",
    "\n",
    "roi_list = np.sort(glob.glob(op.join(sc.roi_masks, '*.nii.gz')))\n",
    "roi_names = [op.basename(roi_tmp).replace('.nii.gz','') for roi_tmp in roi_list]\n",
    "\n",
    "roi_imgs = []\n",
    "for mask_filename in roi_list:\n",
    "    roi_imgs.append(nib.load(mask_filename))\n",
    "\n",
    "mask_img = nib.load(op.join(sc.home_folder, 'derivatives', 'mask_simpcomp.nii'))"
   ]
  },
  {
   "cell_type": "code",
   "execution_count": 2,
   "metadata": {},
   "outputs": [
    {
     "name": "stdout",
     "output_type": "stream",
     "text": [
      "--------------------------------------------------------------------------------\n",
      "analyzing sub-01\n"
     ]
    },
    {
     "name": "stderr",
     "output_type": "stream",
     "text": [
      "/home/lbg/anaconda3/lib/python3.6/site-packages/nistats/first_level_model.py:559: UserWarning: One contrast given, assuming it for all 4 runs\n",
      "  warn('One contrast given, assuming it for all %d runs' % n_runs)\n",
      "/home/lbg/anaconda3/lib/python3.6/site-packages/nistats/first_level_model.py:559: UserWarning: One contrast given, assuming it for all 4 runs\n",
      "  warn('One contrast given, assuming it for all %d runs' % n_runs)\n",
      "/home/lbg/anaconda3/lib/python3.6/site-packages/nistats/first_level_model.py:559: UserWarning: One contrast given, assuming it for all 4 runs\n",
      "  warn('One contrast given, assuming it for all %d runs' % n_runs)\n",
      "/home/lbg/anaconda3/lib/python3.6/site-packages/nistats/first_level_model.py:559: UserWarning: One contrast given, assuming it for all 4 runs\n",
      "  warn('One contrast given, assuming it for all %d runs' % n_runs)\n"
     ]
    },
    {
     "name": "stdout",
     "output_type": "stream",
     "text": [
      "--------------------------------------------------------------------------------\n",
      "analyzing sub-02\n"
     ]
    },
    {
     "name": "stderr",
     "output_type": "stream",
     "text": [
      "/home/lbg/anaconda3/lib/python3.6/site-packages/nistats/first_level_model.py:559: UserWarning: One contrast given, assuming it for all 4 runs\n",
      "  warn('One contrast given, assuming it for all %d runs' % n_runs)\n",
      "/home/lbg/anaconda3/lib/python3.6/site-packages/nistats/first_level_model.py:559: UserWarning: One contrast given, assuming it for all 4 runs\n",
      "  warn('One contrast given, assuming it for all %d runs' % n_runs)\n",
      "/home/lbg/anaconda3/lib/python3.6/site-packages/nistats/first_level_model.py:559: UserWarning: One contrast given, assuming it for all 4 runs\n",
      "  warn('One contrast given, assuming it for all %d runs' % n_runs)\n",
      "/home/lbg/anaconda3/lib/python3.6/site-packages/nistats/first_level_model.py:559: UserWarning: One contrast given, assuming it for all 4 runs\n",
      "  warn('One contrast given, assuming it for all %d runs' % n_runs)\n"
     ]
    },
    {
     "name": "stdout",
     "output_type": "stream",
     "text": [
      "--------------------------------------------------------------------------------\n",
      "analyzing sub-04\n"
     ]
    },
    {
     "name": "stderr",
     "output_type": "stream",
     "text": [
      "/home/lbg/anaconda3/lib/python3.6/site-packages/nistats/first_level_model.py:559: UserWarning: One contrast given, assuming it for all 4 runs\n",
      "  warn('One contrast given, assuming it for all %d runs' % n_runs)\n",
      "/home/lbg/anaconda3/lib/python3.6/site-packages/nistats/first_level_model.py:559: UserWarning: One contrast given, assuming it for all 4 runs\n",
      "  warn('One contrast given, assuming it for all %d runs' % n_runs)\n",
      "/home/lbg/anaconda3/lib/python3.6/site-packages/nistats/first_level_model.py:559: UserWarning: One contrast given, assuming it for all 4 runs\n",
      "  warn('One contrast given, assuming it for all %d runs' % n_runs)\n",
      "/home/lbg/anaconda3/lib/python3.6/site-packages/nistats/first_level_model.py:559: UserWarning: One contrast given, assuming it for all 4 runs\n",
      "  warn('One contrast given, assuming it for all %d runs' % n_runs)\n"
     ]
    },
    {
     "name": "stdout",
     "output_type": "stream",
     "text": [
      "--------------------------------------------------------------------------------\n",
      "analyzing sub-05\n"
     ]
    },
    {
     "name": "stderr",
     "output_type": "stream",
     "text": [
      "/home/lbg/anaconda3/lib/python3.6/site-packages/nistats/first_level_model.py:559: UserWarning: One contrast given, assuming it for all 4 runs\n",
      "  warn('One contrast given, assuming it for all %d runs' % n_runs)\n",
      "/home/lbg/anaconda3/lib/python3.6/site-packages/nistats/first_level_model.py:559: UserWarning: One contrast given, assuming it for all 4 runs\n",
      "  warn('One contrast given, assuming it for all %d runs' % n_runs)\n",
      "/home/lbg/anaconda3/lib/python3.6/site-packages/nistats/first_level_model.py:559: UserWarning: One contrast given, assuming it for all 4 runs\n",
      "  warn('One contrast given, assuming it for all %d runs' % n_runs)\n",
      "/home/lbg/anaconda3/lib/python3.6/site-packages/nistats/first_level_model.py:559: UserWarning: One contrast given, assuming it for all 4 runs\n",
      "  warn('One contrast given, assuming it for all %d runs' % n_runs)\n"
     ]
    },
    {
     "name": "stdout",
     "output_type": "stream",
     "text": [
      "--------------------------------------------------------------------------------\n",
      "analyzing sub-07\n"
     ]
    },
    {
     "name": "stderr",
     "output_type": "stream",
     "text": [
      "/home/lbg/anaconda3/lib/python3.6/site-packages/nistats/first_level_model.py:559: UserWarning: One contrast given, assuming it for all 4 runs\n",
      "  warn('One contrast given, assuming it for all %d runs' % n_runs)\n",
      "/home/lbg/anaconda3/lib/python3.6/site-packages/nistats/first_level_model.py:559: UserWarning: One contrast given, assuming it for all 4 runs\n",
      "  warn('One contrast given, assuming it for all %d runs' % n_runs)\n",
      "/home/lbg/anaconda3/lib/python3.6/site-packages/nistats/first_level_model.py:559: UserWarning: One contrast given, assuming it for all 4 runs\n",
      "  warn('One contrast given, assuming it for all %d runs' % n_runs)\n",
      "/home/lbg/anaconda3/lib/python3.6/site-packages/nistats/first_level_model.py:559: UserWarning: One contrast given, assuming it for all 4 runs\n",
      "  warn('One contrast given, assuming it for all %d runs' % n_runs)\n"
     ]
    },
    {
     "name": "stdout",
     "output_type": "stream",
     "text": [
      "--------------------------------------------------------------------------------\n",
      "analyzing sub-08\n"
     ]
    },
    {
     "name": "stderr",
     "output_type": "stream",
     "text": [
      "/home/lbg/anaconda3/lib/python3.6/site-packages/nistats/first_level_model.py:559: UserWarning: One contrast given, assuming it for all 4 runs\n",
      "  warn('One contrast given, assuming it for all %d runs' % n_runs)\n",
      "/home/lbg/anaconda3/lib/python3.6/site-packages/nistats/first_level_model.py:559: UserWarning: One contrast given, assuming it for all 4 runs\n",
      "  warn('One contrast given, assuming it for all %d runs' % n_runs)\n",
      "/home/lbg/anaconda3/lib/python3.6/site-packages/nistats/first_level_model.py:559: UserWarning: One contrast given, assuming it for all 4 runs\n",
      "  warn('One contrast given, assuming it for all %d runs' % n_runs)\n",
      "/home/lbg/anaconda3/lib/python3.6/site-packages/nistats/first_level_model.py:559: UserWarning: One contrast given, assuming it for all 4 runs\n",
      "  warn('One contrast given, assuming it for all %d runs' % n_runs)\n"
     ]
    },
    {
     "name": "stdout",
     "output_type": "stream",
     "text": [
      "--------------------------------------------------------------------------------\n",
      "analyzing sub-09\n"
     ]
    },
    {
     "name": "stderr",
     "output_type": "stream",
     "text": [
      "/home/lbg/anaconda3/lib/python3.6/site-packages/nistats/first_level_model.py:559: UserWarning: One contrast given, assuming it for all 4 runs\n",
      "  warn('One contrast given, assuming it for all %d runs' % n_runs)\n",
      "/home/lbg/anaconda3/lib/python3.6/site-packages/nistats/first_level_model.py:559: UserWarning: One contrast given, assuming it for all 4 runs\n",
      "  warn('One contrast given, assuming it for all %d runs' % n_runs)\n",
      "/home/lbg/anaconda3/lib/python3.6/site-packages/nistats/first_level_model.py:559: UserWarning: One contrast given, assuming it for all 4 runs\n",
      "  warn('One contrast given, assuming it for all %d runs' % n_runs)\n",
      "/home/lbg/anaconda3/lib/python3.6/site-packages/nistats/first_level_model.py:559: UserWarning: One contrast given, assuming it for all 4 runs\n",
      "  warn('One contrast given, assuming it for all %d runs' % n_runs)\n"
     ]
    },
    {
     "name": "stdout",
     "output_type": "stream",
     "text": [
      "--------------------------------------------------------------------------------\n",
      "analyzing sub-10\n"
     ]
    },
    {
     "name": "stderr",
     "output_type": "stream",
     "text": [
      "/home/lbg/anaconda3/lib/python3.6/site-packages/nistats/first_level_model.py:559: UserWarning: One contrast given, assuming it for all 4 runs\n",
      "  warn('One contrast given, assuming it for all %d runs' % n_runs)\n",
      "/home/lbg/anaconda3/lib/python3.6/site-packages/nistats/first_level_model.py:559: UserWarning: One contrast given, assuming it for all 4 runs\n",
      "  warn('One contrast given, assuming it for all %d runs' % n_runs)\n",
      "/home/lbg/anaconda3/lib/python3.6/site-packages/nistats/first_level_model.py:559: UserWarning: One contrast given, assuming it for all 4 runs\n",
      "  warn('One contrast given, assuming it for all %d runs' % n_runs)\n",
      "/home/lbg/anaconda3/lib/python3.6/site-packages/nistats/first_level_model.py:559: UserWarning: One contrast given, assuming it for all 4 runs\n",
      "  warn('One contrast given, assuming it for all %d runs' % n_runs)\n"
     ]
    },
    {
     "name": "stdout",
     "output_type": "stream",
     "text": [
      "--------------------------------------------------------------------------------\n",
      "analyzing sub-11\n"
     ]
    },
    {
     "name": "stderr",
     "output_type": "stream",
     "text": [
      "/home/lbg/anaconda3/lib/python3.6/site-packages/nistats/first_level_model.py:559: UserWarning: One contrast given, assuming it for all 4 runs\n",
      "  warn('One contrast given, assuming it for all %d runs' % n_runs)\n",
      "/home/lbg/anaconda3/lib/python3.6/site-packages/nistats/first_level_model.py:559: UserWarning: One contrast given, assuming it for all 4 runs\n",
      "  warn('One contrast given, assuming it for all %d runs' % n_runs)\n",
      "/home/lbg/anaconda3/lib/python3.6/site-packages/nistats/first_level_model.py:559: UserWarning: One contrast given, assuming it for all 4 runs\n",
      "  warn('One contrast given, assuming it for all %d runs' % n_runs)\n",
      "/home/lbg/anaconda3/lib/python3.6/site-packages/nistats/first_level_model.py:559: UserWarning: One contrast given, assuming it for all 4 runs\n",
      "  warn('One contrast given, assuming it for all %d runs' % n_runs)\n"
     ]
    },
    {
     "name": "stdout",
     "output_type": "stream",
     "text": [
      "--------------------------------------------------------------------------------\n",
      "analyzing sub-13\n"
     ]
    },
    {
     "name": "stderr",
     "output_type": "stream",
     "text": [
      "/home/lbg/anaconda3/lib/python3.6/site-packages/nistats/first_level_model.py:559: UserWarning: One contrast given, assuming it for all 4 runs\n",
      "  warn('One contrast given, assuming it for all %d runs' % n_runs)\n",
      "/home/lbg/anaconda3/lib/python3.6/site-packages/nistats/first_level_model.py:559: UserWarning: One contrast given, assuming it for all 4 runs\n",
      "  warn('One contrast given, assuming it for all %d runs' % n_runs)\n",
      "/home/lbg/anaconda3/lib/python3.6/site-packages/nistats/first_level_model.py:559: UserWarning: One contrast given, assuming it for all 4 runs\n",
      "  warn('One contrast given, assuming it for all %d runs' % n_runs)\n",
      "/home/lbg/anaconda3/lib/python3.6/site-packages/nistats/first_level_model.py:559: UserWarning: One contrast given, assuming it for all 4 runs\n",
      "  warn('One contrast given, assuming it for all %d runs' % n_runs)\n"
     ]
    },
    {
     "name": "stdout",
     "output_type": "stream",
     "text": [
      "--------------------------------------------------------------------------------\n",
      "analyzing sub-14\n"
     ]
    },
    {
     "name": "stderr",
     "output_type": "stream",
     "text": [
      "/home/lbg/anaconda3/lib/python3.6/site-packages/nistats/first_level_model.py:559: UserWarning: One contrast given, assuming it for all 4 runs\n",
      "  warn('One contrast given, assuming it for all %d runs' % n_runs)\n",
      "/home/lbg/anaconda3/lib/python3.6/site-packages/nistats/first_level_model.py:559: UserWarning: One contrast given, assuming it for all 4 runs\n",
      "  warn('One contrast given, assuming it for all %d runs' % n_runs)\n",
      "/home/lbg/anaconda3/lib/python3.6/site-packages/nistats/first_level_model.py:559: UserWarning: One contrast given, assuming it for all 4 runs\n",
      "  warn('One contrast given, assuming it for all %d runs' % n_runs)\n",
      "/home/lbg/anaconda3/lib/python3.6/site-packages/nistats/first_level_model.py:559: UserWarning: One contrast given, assuming it for all 4 runs\n",
      "  warn('One contrast given, assuming it for all %d runs' % n_runs)\n"
     ]
    },
    {
     "name": "stdout",
     "output_type": "stream",
     "text": [
      "--------------------------------------------------------------------------------\n",
      "analyzing sub-15\n"
     ]
    },
    {
     "name": "stderr",
     "output_type": "stream",
     "text": [
      "/home/lbg/anaconda3/lib/python3.6/site-packages/nistats/first_level_model.py:559: UserWarning: One contrast given, assuming it for all 4 runs\n",
      "  warn('One contrast given, assuming it for all %d runs' % n_runs)\n",
      "/home/lbg/anaconda3/lib/python3.6/site-packages/nistats/first_level_model.py:559: UserWarning: One contrast given, assuming it for all 4 runs\n",
      "  warn('One contrast given, assuming it for all %d runs' % n_runs)\n",
      "/home/lbg/anaconda3/lib/python3.6/site-packages/nistats/first_level_model.py:559: UserWarning: One contrast given, assuming it for all 4 runs\n",
      "  warn('One contrast given, assuming it for all %d runs' % n_runs)\n",
      "/home/lbg/anaconda3/lib/python3.6/site-packages/nistats/first_level_model.py:559: UserWarning: One contrast given, assuming it for all 4 runs\n",
      "  warn('One contrast given, assuming it for all %d runs' % n_runs)\n"
     ]
    },
    {
     "name": "stdout",
     "output_type": "stream",
     "text": [
      "--------------------------------------------------------------------------------\n",
      "analyzing sub-16\n"
     ]
    },
    {
     "name": "stderr",
     "output_type": "stream",
     "text": [
      "/home/lbg/anaconda3/lib/python3.6/site-packages/nistats/first_level_model.py:559: UserWarning: One contrast given, assuming it for all 4 runs\n",
      "  warn('One contrast given, assuming it for all %d runs' % n_runs)\n",
      "/home/lbg/anaconda3/lib/python3.6/site-packages/nistats/first_level_model.py:559: UserWarning: One contrast given, assuming it for all 4 runs\n",
      "  warn('One contrast given, assuming it for all %d runs' % n_runs)\n",
      "/home/lbg/anaconda3/lib/python3.6/site-packages/nistats/first_level_model.py:559: UserWarning: One contrast given, assuming it for all 4 runs\n",
      "  warn('One contrast given, assuming it for all %d runs' % n_runs)\n",
      "/home/lbg/anaconda3/lib/python3.6/site-packages/nistats/first_level_model.py:559: UserWarning: One contrast given, assuming it for all 4 runs\n",
      "  warn('One contrast given, assuming it for all %d runs' % n_runs)\n"
     ]
    },
    {
     "name": "stdout",
     "output_type": "stream",
     "text": [
      "--------------------------------------------------------------------------------\n",
      "analyzing sub-17\n"
     ]
    },
    {
     "name": "stderr",
     "output_type": "stream",
     "text": [
      "/home/lbg/anaconda3/lib/python3.6/site-packages/nistats/first_level_model.py:559: UserWarning: One contrast given, assuming it for all 4 runs\n",
      "  warn('One contrast given, assuming it for all %d runs' % n_runs)\n",
      "/home/lbg/anaconda3/lib/python3.6/site-packages/nistats/first_level_model.py:559: UserWarning: One contrast given, assuming it for all 4 runs\n",
      "  warn('One contrast given, assuming it for all %d runs' % n_runs)\n",
      "/home/lbg/anaconda3/lib/python3.6/site-packages/nistats/first_level_model.py:559: UserWarning: One contrast given, assuming it for all 4 runs\n",
      "  warn('One contrast given, assuming it for all %d runs' % n_runs)\n",
      "/home/lbg/anaconda3/lib/python3.6/site-packages/nistats/first_level_model.py:559: UserWarning: One contrast given, assuming it for all 4 runs\n",
      "  warn('One contrast given, assuming it for all %d runs' % n_runs)\n"
     ]
    },
    {
     "name": "stdout",
     "output_type": "stream",
     "text": [
      "--------------------------------------------------------------------------------\n",
      "analyzing sub-18\n"
     ]
    },
    {
     "name": "stderr",
     "output_type": "stream",
     "text": [
      "/home/lbg/anaconda3/lib/python3.6/site-packages/nistats/first_level_model.py:559: UserWarning: One contrast given, assuming it for all 4 runs\n",
      "  warn('One contrast given, assuming it for all %d runs' % n_runs)\n",
      "/home/lbg/anaconda3/lib/python3.6/site-packages/nistats/first_level_model.py:559: UserWarning: One contrast given, assuming it for all 4 runs\n",
      "  warn('One contrast given, assuming it for all %d runs' % n_runs)\n",
      "/home/lbg/anaconda3/lib/python3.6/site-packages/nistats/first_level_model.py:559: UserWarning: One contrast given, assuming it for all 4 runs\n",
      "  warn('One contrast given, assuming it for all %d runs' % n_runs)\n",
      "/home/lbg/anaconda3/lib/python3.6/site-packages/nistats/first_level_model.py:559: UserWarning: One contrast given, assuming it for all 4 runs\n",
      "  warn('One contrast given, assuming it for all %d runs' % n_runs)\n"
     ]
    }
   ],
   "source": [
    "for sub_id in sc.subject_list:\n",
    "    print('-'*80)\n",
    "    print('analyzing '+sub_id)\n",
    "    sub_glm_filename = op.join(sc.model_incremental_folder, 'glm', 'glm_{}'.format(sub_id))\n",
    "    fmri_glm = load(sub_glm_filename)\n",
    "\n",
    "    design_matrix = fmri_glm.design_matrices_[0]\n",
    "\n",
    "    contrast_matrix = np.eye(design_matrix.shape[1])\n",
    "    contrasts = dict([(column, contrast_matrix[i])\n",
    "                      for i, column in enumerate(design_matrix.columns)])\n",
    "\n",
    "    mask_imgs = sc.prepare_masks(sub_id, roi_imgs, n_best)\n",
    "\n",
    "    beta_maps = []\n",
    "    for type_tmp in token_type:\n",
    "        val_tmp = contrasts[type_tmp]\n",
    "        beta_map_tmp = fmri_glm.compute_contrast(val_tmp, output_type='effect_size')\n",
    "\n",
    "        # for each roi, extract mean value\n",
    "        mean_beta = []\n",
    "        for mask_img in mask_imgs:\n",
    "            tmp = apply_mask(beta_map_tmp, mask_img)\n",
    "            mean_beta.append(np.mean(tmp))\n",
    "\n",
    "        results = results.append(pd.DataFrame({'subject': sub_id,\n",
    "                                               'token_type': type_tmp,\n",
    "                                               'ROI': roi_names,\n",
    "                                               'beta': mean_beta}))\n",
    "\n",
    "# save results\n",
    "res_filename = 'roi_analysis_model-incremental.csv'\n",
    "results.to_csv(op.join(sc.model_incremental_folder, res_filename))"
   ]
  }
 ],
 "metadata": {
  "kernelspec": {
   "display_name": "Python 3",
   "language": "python",
   "name": "python3"
  },
  "language_info": {
   "codemirror_mode": {
    "name": "ipython",
    "version": 3
   },
   "file_extension": ".py",
   "mimetype": "text/x-python",
   "name": "python",
   "nbconvert_exporter": "python",
   "pygments_lexer": "ipython3",
   "version": "3.6.5"
  }
 },
 "nbformat": 4,
 "nbformat_minor": 2
}
