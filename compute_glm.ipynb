{
 "cells": [
  {
   "cell_type": "markdown",
   "metadata": {},
   "source": [
    "# An fMRI study of composition in noun and verb phrases\n",
    "### Bonnasse-Gahot, Bemis, Perez-Guevara, Dehaene, Pallier\n",
    "Compute general linear model (glm) for all subjects for the anova and incremental models ."
   ]
  },
  {
   "cell_type": "code",
   "execution_count": 1,
   "metadata": {},
   "outputs": [],
   "source": [
    "import numpy as np\n",
    "import pandas as pd\n",
    "import os.path as op\n",
    "import glob\n",
    "from joblib import dump\n",
    "import nibabel as nib\n",
    "\n",
    "from nistats.first_level_model import FirstLevelModel\n",
    "\n",
    "import simpcomp as sc"
   ]
  },
  {
   "cell_type": "markdown",
   "metadata": {},
   "source": [
    "> **WARNING** Manually specify the model (anova or incremental) below. You must run the whole notebook once for each model."
   ]
  },
  {
   "cell_type": "code",
   "execution_count": 2,
   "metadata": {},
   "outputs": [],
   "source": [
    "model = 'anova'\n",
    "# model = 'incremental'"
   ]
  },
  {
   "cell_type": "code",
   "execution_count": 3,
   "metadata": {},
   "outputs": [],
   "source": [
    "if model == 'anova':\n",
    "    output_path = op.join(sc.model_anova_folder, 'glm')\n",
    "    model_events_folder = op.join(sc.model_anova_folder, 'events')\n",
    "elif model == 'incremental':\n",
    "    output_path = op.join(sc.model_incremental_folder, 'glm')\n",
    "    model_events_folder = op.join(sc.model_incremental_folder, 'events')\n",
    "else:\n",
    "    print('this model does not exist')\n",
    "    exit(1)\n",
    "\n",
    "sc.make_dir(output_path)"
   ]
  },
  {
   "cell_type": "code",
   "execution_count": 4,
   "metadata": {},
   "outputs": [],
   "source": [
    "mask_img = nib.load(op.join(sc.home_folder, 'derivatives', 'mask_simpcomp.nii'))\n",
    "\n",
    "def compute_glm_model(sub_id, input_path, output_path):       \n",
    "    sub_glm_filename = op.join(output_path, 'glm_{}'.format(sub_id))\n",
    "    if op.isfile(sub_glm_filename):\n",
    "        print('{} skipped: file already exists\\n'.format(sub_id))\n",
    "        return\n",
    "    print('computing glm for {}'.format(sub_id))\n",
    "    fmri_imgs = sorted(glob.glob(op.join(input_path, sub_id, 'func', \n",
    "                    '{}_task-maindesign_run-0*_space-MNI152NLin2009cAsym_desc-preproc_bold.nii.gz'.format(sub_id))))\n",
    "    \n",
    "    paradigm_filenames = sorted(glob.glob(op.join(model_events_folder, sub_id, \n",
    "                                                  '{}_model-{}_run-0*_events.tsv'.format(sub_id, model))))\n",
    "    paradigms = [pd.read_csv(paradigm_filename, sep='\\t') for paradigm_filename in paradigm_filenames]    \n",
    "    \n",
    "    t_r = 1.5\n",
    "    slice_time_ref = 0.5\n",
    "    hrf_model = 'spm'\n",
    "    noise_model='ar1'\n",
    "    drift_model = 'cosine'\n",
    "    period_cut = 128 #s\n",
    "    signal_scaling = 0\n",
    "    \n",
    "    # load confounds\n",
    "    confounds_filenames = sorted(glob.glob(op.join(input_path, sub_id, 'func',\n",
    "                             '{}_task-maindesign_run-0*_desc-confounds_regressors.tsv'.format(sub_id))))\n",
    "    confounds = [pd.read_csv(confounds_filename, sep='\\t')\n",
    "                 [['trans_x', 'trans_y', 'trans_z', 'rot_x', 'rot_y', 'rot_z']\n",
    "                  +['a_comp_cor_{:02d}'.format(i) for i in range(6)]]\n",
    "                 for confounds_filename in confounds_filenames]\n",
    "\n",
    "    fmri_glm = FirstLevelModel(t_r=t_r,\n",
    "                               slice_time_ref=slice_time_ref,\n",
    "                               noise_model='ar1',\n",
    "                               standardize=False,\n",
    "                               hrf_model=hrf_model,\n",
    "                               drift_model=drift_model,\n",
    "                               high_pass=1/period_cut,\n",
    "                               signal_scaling=signal_scaling,\n",
    "                               mask_img=mask_img,\n",
    "                               smoothing_fwhm=4,\n",
    "                               verbose=2,\n",
    "                               n_jobs=1)\n",
    "    fmri_glm = fmri_glm.fit(run_imgs=fmri_imgs, \n",
    "                            events=paradigms,\n",
    "                            confounds=confounds)\n",
    "    \n",
    "    dump(fmri_glm, sub_glm_filename)\n",
    "    print('{} glm is computed and saved'.format(sub_id))"
   ]
  },
  {
   "cell_type": "code",
   "execution_count": 5,
   "metadata": {
    "scrolled": true
   },
   "outputs": [
    {
     "name": "stdout",
     "output_type": "stream",
     "text": [
      "computing glm for sub-01\n"
     ]
    },
    {
     "name": "stderr",
     "output_type": "stream",
     "text": [
      "Computing run 1 out of 4 runs (go take a coffee, a big one)\n",
      "Masker took 55 seconds       \n",
      "GLM took 19 seconds         \n",
      "Computing run 2 out of 4 runs (310 seconds remaining)\n",
      "Masker took 56 seconds       \n",
      "GLM took 18 seconds         \n",
      "Computing run 3 out of 4 runs (202 seconds remaining)\n",
      "Masker took 56 seconds       \n",
      "GLM took 17 seconds         \n",
      "Computing run 4 out of 4 runs (100 seconds remaining)\n",
      "Masker took 56 seconds       \n",
      "GLM took 16 seconds         \n",
      "\n",
      "Computation of 4 runs done in 397 seconds\n",
      "\n"
     ]
    },
    {
     "name": "stdout",
     "output_type": "stream",
     "text": [
      "sub-01 glm is computed and saved\n",
      "computing glm for sub-02\n"
     ]
    },
    {
     "name": "stderr",
     "output_type": "stream",
     "text": [
      "Computing run 1 out of 4 runs (go take a coffee, a big one)\n",
      "Masker took 56 seconds       \n",
      "GLM took 17 seconds         \n",
      "Computing run 2 out of 4 runs (297 seconds remaining)\n",
      "Masker took 55 seconds       \n",
      "GLM took 16 seconds         \n",
      "Computing run 3 out of 4 runs (196 seconds remaining)\n",
      "Masker took 55 seconds       \n",
      "GLM took 16 seconds         \n",
      "Computing run 4 out of 4 runs (97 seconds remaining)\n",
      "Masker took 56 seconds       \n",
      "GLM took 16 seconds         \n",
      "\n",
      "Computation of 4 runs done in 390 seconds\n",
      "\n"
     ]
    },
    {
     "name": "stdout",
     "output_type": "stream",
     "text": [
      "sub-02 glm is computed and saved\n",
      "computing glm for sub-04\n"
     ]
    },
    {
     "name": "stderr",
     "output_type": "stream",
     "text": [
      "Computing run 1 out of 4 runs (go take a coffee, a big one)\n",
      "Masker took 55 seconds       \n",
      "GLM took 16 seconds         \n",
      "Computing run 2 out of 4 runs (292 seconds remaining)\n",
      "Masker took 55 seconds       \n",
      "GLM took 16 seconds         \n",
      "Computing run 3 out of 4 runs (194 seconds remaining)\n",
      "Masker took 56 seconds       \n",
      "GLM took 16 seconds         \n",
      "Computing run 4 out of 4 runs (97 seconds remaining)\n",
      "Masker took 56 seconds       \n",
      "GLM took 17 seconds         \n",
      "\n",
      "Computation of 4 runs done in 391 seconds\n",
      "\n"
     ]
    },
    {
     "name": "stdout",
     "output_type": "stream",
     "text": [
      "sub-04 glm is computed and saved\n",
      "computing glm for sub-05\n"
     ]
    },
    {
     "name": "stderr",
     "output_type": "stream",
     "text": [
      "Computing run 1 out of 4 runs (go take a coffee, a big one)\n",
      "Masker took 56 seconds       \n",
      "GLM took 16 seconds         \n",
      "Computing run 2 out of 4 runs (291 seconds remaining)\n",
      "Masker took 56 seconds       \n",
      "GLM took 16 seconds         \n",
      "Computing run 3 out of 4 runs (195 seconds remaining)\n",
      "Masker took 55 seconds       \n",
      "GLM took 16 seconds         \n",
      "Computing run 4 out of 4 runs (97 seconds remaining)\n",
      "Masker took 56 seconds       \n",
      "GLM took 16 seconds         \n",
      "\n",
      "Computation of 4 runs done in 389 seconds\n",
      "\n"
     ]
    },
    {
     "name": "stdout",
     "output_type": "stream",
     "text": [
      "sub-05 glm is computed and saved\n",
      "computing glm for sub-07\n"
     ]
    },
    {
     "name": "stderr",
     "output_type": "stream",
     "text": [
      "Computing run 1 out of 4 runs (go take a coffee, a big one)\n",
      "Masker took 55 seconds       \n",
      "/home/lbg/anaconda3/lib/python3.6/site-packages/nistats/first_level_model.py:70: UserWarning: Mean values of 0 observed.The data have probably been centered.Scaling might not work as expected\n",
      "  warn('Mean values of 0 observed.'\n",
      "GLM took 16 seconds         \n",
      "Computing run 2 out of 4 runs (286 seconds remaining)\n",
      "Masker took 56 seconds       \n",
      "GLM took 16 seconds         \n",
      "Computing run 3 out of 4 runs (192 seconds remaining)\n",
      "Masker took 56 seconds       \n",
      "GLM took 16 seconds         \n",
      "Computing run 4 out of 4 runs (96 seconds remaining)\n",
      "Masker took 56 seconds       \n",
      "GLM took 16 seconds         \n",
      "\n",
      "Computation of 4 runs done in 386 seconds\n",
      "\n"
     ]
    },
    {
     "name": "stdout",
     "output_type": "stream",
     "text": [
      "sub-07 glm is computed and saved\n",
      "computing glm for sub-08\n"
     ]
    },
    {
     "name": "stderr",
     "output_type": "stream",
     "text": [
      "Computing run 1 out of 4 runs (go take a coffee, a big one)\n",
      "Masker took 55 seconds       \n",
      "GLM took 16 seconds         \n",
      "Computing run 2 out of 4 runs (290 seconds remaining)\n",
      "Masker took 55 seconds       \n",
      "GLM took 16 seconds         \n",
      "Computing run 3 out of 4 runs (193 seconds remaining)\n",
      "Masker took 55 seconds       \n",
      "GLM took 16 seconds         \n",
      "Computing run 4 out of 4 runs (96 seconds remaining)\n",
      "Masker took 56 seconds       \n",
      "GLM took 16 seconds         \n",
      "\n",
      "Computation of 4 runs done in 387 seconds\n",
      "\n"
     ]
    },
    {
     "name": "stdout",
     "output_type": "stream",
     "text": [
      "sub-08 glm is computed and saved\n",
      "computing glm for sub-09\n"
     ]
    },
    {
     "name": "stderr",
     "output_type": "stream",
     "text": [
      "Computing run 1 out of 4 runs (go take a coffee, a big one)\n",
      "Masker took 55 seconds       \n",
      "GLM took 16 seconds         \n",
      "Computing run 2 out of 4 runs (291 seconds remaining)\n",
      "Masker took 56 seconds       \n",
      "GLM took 16 seconds         \n",
      "Computing run 3 out of 4 runs (195 seconds remaining)\n",
      "Masker took 56 seconds       \n",
      "GLM took 16 seconds         \n",
      "Computing run 4 out of 4 runs (98 seconds remaining)\n",
      "Masker took 55 seconds       \n",
      "GLM took 16 seconds         \n",
      "\n",
      "Computation of 4 runs done in 391 seconds\n",
      "\n"
     ]
    },
    {
     "name": "stdout",
     "output_type": "stream",
     "text": [
      "sub-09 glm is computed and saved\n",
      "computing glm for sub-10\n"
     ]
    },
    {
     "name": "stderr",
     "output_type": "stream",
     "text": [
      "Computing run 1 out of 4 runs (go take a coffee, a big one)\n",
      "Masker took 55 seconds       \n",
      "GLM took 16 seconds         \n",
      "Computing run 2 out of 4 runs (292 seconds remaining)\n",
      "Masker took 55 seconds       \n",
      "GLM took 17 seconds         \n",
      "Computing run 3 out of 4 runs (198 seconds remaining)\n",
      "Masker took 55 seconds       \n",
      "GLM took 17 seconds         \n",
      "Computing run 4 out of 4 runs (98 seconds remaining)\n",
      "Masker took 55 seconds       \n",
      "GLM took 16 seconds         \n",
      "\n",
      "Computation of 4 runs done in 391 seconds\n",
      "\n"
     ]
    },
    {
     "name": "stdout",
     "output_type": "stream",
     "text": [
      "sub-10 glm is computed and saved\n",
      "computing glm for sub-11\n"
     ]
    },
    {
     "name": "stderr",
     "output_type": "stream",
     "text": [
      "Computing run 1 out of 4 runs (go take a coffee, a big one)\n",
      "Masker took 55 seconds       \n",
      "GLM took 16 seconds         \n",
      "Computing run 2 out of 4 runs (292 seconds remaining)\n",
      "Masker took 55 seconds       \n",
      "GLM took 16 seconds         \n",
      "Computing run 3 out of 4 runs (195 seconds remaining)\n",
      "Masker took 56 seconds       \n",
      "GLM took 16 seconds         \n",
      "Computing run 4 out of 4 runs (97 seconds remaining)\n",
      "Masker took 55 seconds       \n",
      "GLM took 16 seconds         \n",
      "\n",
      "Computation of 4 runs done in 391 seconds\n",
      "\n"
     ]
    },
    {
     "name": "stdout",
     "output_type": "stream",
     "text": [
      "sub-11 glm is computed and saved\n",
      "computing glm for sub-13\n"
     ]
    },
    {
     "name": "stderr",
     "output_type": "stream",
     "text": [
      "Computing run 1 out of 4 runs (go take a coffee, a big one)\n",
      "Masker took 56 seconds       \n",
      "/home/lbg/anaconda3/lib/python3.6/site-packages/nistats/first_level_model.py:70: UserWarning: Mean values of 0 observed.The data have probably been centered.Scaling might not work as expected\n",
      "  warn('Mean values of 0 observed.'\n",
      "GLM took 17 seconds         \n",
      "Computing run 2 out of 4 runs (291 seconds remaining)\n",
      "Masker took 56 seconds       \n",
      "/home/lbg/anaconda3/lib/python3.6/site-packages/nistats/first_level_model.py:70: UserWarning: Mean values of 0 observed.The data have probably been centered.Scaling might not work as expected\n",
      "  warn('Mean values of 0 observed.'\n",
      "GLM took 16 seconds         \n",
      "Computing run 3 out of 4 runs (197 seconds remaining)\n",
      "Masker took 56 seconds       \n",
      "/home/lbg/anaconda3/lib/python3.6/site-packages/nistats/first_level_model.py:70: UserWarning: Mean values of 0 observed.The data have probably been centered.Scaling might not work as expected\n",
      "  warn('Mean values of 0 observed.'\n",
      "GLM took 16 seconds         \n",
      "Computing run 4 out of 4 runs (98 seconds remaining)\n",
      "Masker took 56 seconds       \n",
      "/home/lbg/anaconda3/lib/python3.6/site-packages/nistats/first_level_model.py:70: UserWarning: Mean values of 0 observed.The data have probably been centered.Scaling might not work as expected\n",
      "  warn('Mean values of 0 observed.'\n",
      "GLM took 17 seconds         \n",
      "\n",
      "Computation of 4 runs done in 391 seconds\n",
      "\n"
     ]
    },
    {
     "name": "stdout",
     "output_type": "stream",
     "text": [
      "sub-13 glm is computed and saved\n",
      "computing glm for sub-14\n"
     ]
    },
    {
     "name": "stderr",
     "output_type": "stream",
     "text": [
      "Computing run 1 out of 4 runs (go take a coffee, a big one)\n",
      "Masker took 56 seconds       \n",
      "GLM took 17 seconds         \n",
      "Computing run 2 out of 4 runs (305 seconds remaining)\n",
      "Masker took 56 seconds       \n",
      "GLM took 17 seconds         \n",
      "Computing run 3 out of 4 runs (223 seconds remaining)\n",
      "Masker took 57 seconds       \n",
      "GLM took 18 seconds         \n",
      "Computing run 4 out of 4 runs (145 seconds remaining)\n",
      "Masker took 56 seconds       \n",
      "GLM took 17 seconds         \n",
      "\n",
      "Computation of 4 runs done in 643 seconds\n",
      "\n"
     ]
    },
    {
     "name": "stdout",
     "output_type": "stream",
     "text": [
      "sub-14 glm is computed and saved\n",
      "computing glm for sub-15\n"
     ]
    },
    {
     "name": "stderr",
     "output_type": "stream",
     "text": [
      "Computing run 1 out of 4 runs (go take a coffee, a big one)\n",
      "Masker took 56 seconds       \n",
      "/home/lbg/anaconda3/lib/python3.6/site-packages/nistats/first_level_model.py:70: UserWarning: Mean values of 0 observed.The data have probably been centered.Scaling might not work as expected\n",
      "  warn('Mean values of 0 observed.'\n",
      "GLM took 18 seconds         \n",
      "Computing run 2 out of 4 runs (690 seconds remaining)\n",
      "Masker took 56 seconds       \n",
      "/home/lbg/anaconda3/lib/python3.6/site-packages/nistats/first_level_model.py:70: UserWarning: Mean values of 0 observed.The data have probably been centered.Scaling might not work as expected\n",
      "  warn('Mean values of 0 observed.'\n",
      "GLM took 18 seconds         \n",
      "Computing run 3 out of 4 runs (446 seconds remaining)\n",
      "Masker took 55 seconds       \n",
      "GLM took 16 seconds         \n",
      "Computing run 4 out of 4 runs (192 seconds remaining)\n",
      "Masker took 55 seconds       \n",
      "/home/lbg/anaconda3/lib/python3.6/site-packages/nistats/first_level_model.py:70: UserWarning: Mean values of 0 observed.The data have probably been centered.Scaling might not work as expected\n",
      "  warn('Mean values of 0 observed.'\n",
      "GLM took 15 seconds         \n",
      "\n",
      "Computation of 4 runs done in 674 seconds\n",
      "\n"
     ]
    },
    {
     "name": "stdout",
     "output_type": "stream",
     "text": [
      "sub-15 glm is computed and saved\n",
      "computing glm for sub-16\n"
     ]
    },
    {
     "name": "stderr",
     "output_type": "stream",
     "text": [
      "Computing run 1 out of 4 runs (go take a coffee, a big one)\n",
      "Masker took 55 seconds       \n",
      "GLM took 16 seconds         \n",
      "Computing run 2 out of 4 runs (287 seconds remaining)\n",
      "Masker took 55 seconds       \n",
      "GLM took 16 seconds         \n",
      "Computing run 3 out of 4 runs (192 seconds remaining)\n",
      "Masker took 56 seconds       \n",
      "GLM took 16 seconds         \n",
      "Computing run 4 out of 4 runs (96 seconds remaining)\n",
      "Masker took 56 seconds       \n",
      "GLM took 16 seconds         \n",
      "\n",
      "Computation of 4 runs done in 386 seconds\n",
      "\n"
     ]
    },
    {
     "name": "stdout",
     "output_type": "stream",
     "text": [
      "sub-16 glm is computed and saved\n",
      "computing glm for sub-17\n"
     ]
    },
    {
     "name": "stderr",
     "output_type": "stream",
     "text": [
      "Computing run 1 out of 4 runs (go take a coffee, a big one)\n",
      "Masker took 56 seconds       \n",
      "GLM took 16 seconds         \n",
      "Computing run 2 out of 4 runs (293 seconds remaining)\n",
      "Masker took 55 seconds       \n",
      "GLM took 16 seconds         \n",
      "Computing run 3 out of 4 runs (193 seconds remaining)\n",
      "Masker took 55 seconds       \n",
      "GLM took 16 seconds         \n",
      "Computing run 4 out of 4 runs (96 seconds remaining)\n",
      "Masker took 55 seconds       \n",
      "GLM took 16 seconds         \n",
      "\n",
      "Computation of 4 runs done in 386 seconds\n",
      "\n"
     ]
    },
    {
     "name": "stdout",
     "output_type": "stream",
     "text": [
      "sub-17 glm is computed and saved\n",
      "computing glm for sub-18\n"
     ]
    },
    {
     "name": "stderr",
     "output_type": "stream",
     "text": [
      "Computing run 1 out of 4 runs (go take a coffee, a big one)\n",
      "Masker took 55 seconds       \n",
      "GLM took 16 seconds         \n",
      "Computing run 2 out of 4 runs (306 seconds remaining)\n",
      "Masker took 56 seconds       \n",
      "GLM took 16 seconds         \n",
      "Computing run 3 out of 4 runs (200 seconds remaining)\n",
      "Masker took 57 seconds       \n",
      "GLM took 17 seconds         \n",
      "Computing run 4 out of 4 runs (100 seconds remaining)\n",
      "Masker took 56 seconds       \n",
      "GLM took 16 seconds         \n",
      "\n",
      "Computation of 4 runs done in 400 seconds\n",
      "\n"
     ]
    },
    {
     "name": "stdout",
     "output_type": "stream",
     "text": [
      "sub-18 glm is computed and saved\n"
     ]
    }
   ],
   "source": [
    "for sub_id in sc.subject_list:\n",
    "    compute_glm_model(sub_id, sc.fmri_data, output_path)"
   ]
  }
 ],
 "metadata": {
  "anaconda-cloud": {},
  "kernelspec": {
   "display_name": "Python 3",
   "language": "python",
   "name": "python3"
  },
  "language_info": {
   "codemirror_mode": {
    "name": "ipython",
    "version": 3
   },
   "file_extension": ".py",
   "mimetype": "text/x-python",
   "name": "python",
   "nbconvert_exporter": "python",
   "pygments_lexer": "ipython3",
   "version": "3.6.5"
  }
 },
 "nbformat": 4,
 "nbformat_minor": 1
}
