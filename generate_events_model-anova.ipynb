{
 "cells": [
  {
   "cell_type": "markdown",
   "metadata": {},
   "source": [
    "# An fMRI study of composition in noun and verb phrases\n",
    "### Bonnasse-Gahot, Bemis, Perez-Guevara, Dehaene, Pallier\n",
    "Generate the events for the anova model"
   ]
  },
  {
   "cell_type": "code",
   "execution_count": 1,
   "metadata": {},
   "outputs": [],
   "source": [
    "import numpy as np\n",
    "import pandas as pd\n",
    "import os.path as op\n",
    "import simpcomp as sc"
   ]
  },
  {
   "cell_type": "code",
   "execution_count": 2,
   "metadata": {},
   "outputs": [],
   "source": [
    "# regressors are:\n",
    "# pn1, pn2, pn3, pn4 : noun phrases of length 1, 2, 3 and 4 respectively\n",
    "# pv1, pv2, pv3, pv4 : verb phrases of length 1, 2, 3 and 4 respectively\n",
    "# ln1, ln2, ln3, ln4 : noun lists of length 1, 2, 3 and 4 respectively\n",
    "# lv1, lv2, lv3, lv4 : verb lists of length 1, 2, 3 and 4 respectively\n",
    "# probe\n",
    "# resp_r : response key right\n",
    "# resp_l : response key left \n",
    "\n",
    "def create_model_events(full_events):\n",
    "    model_events = pd.DataFrame(columns=['onset', 'duration', 'trial_type'])   \n",
    "\n",
    "    for trial_number in range(1,81):\n",
    "        onset = full_events[full_events.trial_number==trial_number].onset.iloc[1]\n",
    "        duration = (full_events[full_events.trial_number==trial_number].onset.iloc[10]\n",
    "                    - full_events[full_events.trial_number==trial_number].onset.iloc[1])\n",
    "        trial_type = '{}{}{}'.format(full_events[full_events.trial_number==trial_number].trial_structure.iloc[0][0],\n",
    "                                     full_events[full_events.trial_number==trial_number].trial_type.iloc[0][0],\n",
    "                                     full_events[full_events.trial_number==trial_number].trial_length.iloc[0])\n",
    "        model_events = model_events.append(pd.Series({'onset':onset,\n",
    "                                                      'duration':duration,\n",
    "                                                      'trial_type':trial_type}),\n",
    "                                           ignore_index=True)\n",
    "\n",
    "        onset = full_events[full_events.trial_number==trial_number].iloc[12].onset\n",
    "        duration = 0\n",
    "        trial_type = 'probe'\n",
    "        model_events = model_events.append(pd.Series({'onset':onset,\n",
    "                                                      'duration':duration,\n",
    "                                                      'trial_type':trial_type}),\n",
    "                                           ignore_index=True)  \n",
    "\n",
    "        if full_events[full_events.trial_number==trial_number].response_key.iloc[0] != 'TIMEOUT':\n",
    "            onset = full_events[(full_events.trial_number==trial_number)&(full_events.stim=='[response]')].onset.iloc[0]\n",
    "            duration = 0\n",
    "            if full_events[full_events.trial_number==trial_number].response_key.iloc[0] == 'y':\n",
    "                trial_type = 'resp_r'\n",
    "            else:\n",
    "                trial_type = 'resp_l'\n",
    "            model_events = model_events.append(pd.Series({'onset':onset,\n",
    "                                                          'duration':duration,\n",
    "                                                          'trial_type':trial_type}),\n",
    "                                               ignore_index=True)  \n",
    "    return model_events"
   ]
  },
  {
   "cell_type": "code",
   "execution_count": 3,
   "metadata": {},
   "outputs": [],
   "source": [
    "for sub_id in sc.subject_list:\n",
    "    dir_tmp = op.join(sc.model_anova_folder, 'events', sub_id)\n",
    "    sc.make_dir(dir_tmp)\n",
    "    for indrun in range(1,5):\n",
    "        filename_in = op.join(sc.events_folder, sub_id, 'func',\n",
    "                   '{}_task-maindesign_run-{:02d}_events.tsv'.format(sub_id, indrun))\n",
    "        full_events = pd.read_csv(filename_in, sep='\\t')\n",
    "        model_events = create_model_events(full_events)\n",
    "        \n",
    "        filename_out = op.join(dir_tmp, \n",
    "                      '{}_model-anova_run-{:02d}_events.tsv'.format(sub_id, indrun))\n",
    "        model_events.to_csv(filename_out, index=False, sep='\\t')"
   ]
  }
 ],
 "metadata": {
  "anaconda-cloud": {},
  "kernelspec": {
   "display_name": "Python 3",
   "language": "python",
   "name": "python3"
  },
  "language_info": {
   "codemirror_mode": {
    "name": "ipython",
    "version": 3
   },
   "file_extension": ".py",
   "mimetype": "text/x-python",
   "name": "python",
   "nbconvert_exporter": "python",
   "pygments_lexer": "ipython3",
   "version": "3.6.5"
  }
 },
 "nbformat": 4,
 "nbformat_minor": 1
}
