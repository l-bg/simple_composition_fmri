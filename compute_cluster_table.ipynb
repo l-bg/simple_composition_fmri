{
 "cells": [
  {
   "cell_type": "markdown",
   "metadata": {},
   "source": [
    "# An fMRI study of composition in noun and verb phrases\n",
    "### Bonnasse-Gahot, Bemis, Perez-Guevara, Dehaene, Pallier\n",
    "Whole-brain analysis: cluster table. (Re)producing Supplementary Table S1."
   ]
  },
  {
   "cell_type": "code",
   "execution_count": 1,
   "metadata": {},
   "outputs": [],
   "source": [
    "import numpy as np\n",
    "import pandas as pd\n",
    "\n",
    "import os.path as op\n",
    "\n",
    "import nibabel as nib\n",
    "\n",
    "import simpcomp as sc\n",
    "\n",
    "from nistats.reporting import get_clusters_table\n",
    "import scipy.stats as stats"
   ]
  },
  {
   "cell_type": "code",
   "execution_count": 2,
   "metadata": {},
   "outputs": [],
   "source": [
    "contrasts = ['structure', 'structure-verb', 'type-phrase']"
   ]
  },
  {
   "cell_type": "code",
   "execution_count": 3,
   "metadata": {},
   "outputs": [],
   "source": [
    "alpha = 0.001 \n",
    "cluster_threshold = 100"
   ]
  },
  {
   "cell_type": "code",
   "execution_count": 4,
   "metadata": {
    "scrolled": false
   },
   "outputs": [
    {
     "name": "stdout",
     "output_type": "stream",
     "text": [
      "structure\n",
      "\\begin{tabular}{lrrrrl}\n",
      "\\toprule\n",
      "Cluster ID &     X &     Y &     Z &  Peak Stat & Cluster Size (mm3) \\\\\n",
      "\\midrule\n",
      "         1 & -54.0 & -55.5 &  21.0 &       4.78 &               1154 \\\\\n",
      "        1a & -43.5 & -58.5 &  18.0 &       3.23 &                    \\\\\n",
      "         2 &  -7.5 &  52.5 &  37.5 &       4.72 &                897 \\\\\n",
      "         3 & -60.0 &   3.0 & -21.0 &       4.60 &                756 \\\\\n",
      "        3a & -51.0 &   7.5 & -24.0 &       3.80 &                    \\\\\n",
      "         4 & -45.0 &  27.0 & -18.0 &       4.60 &               1869 \\\\\n",
      "        4a & -43.5 &  36.0 & -19.5 &       4.30 &                    \\\\\n",
      "        4b & -49.5 &  19.5 & -16.5 &       3.94 &                    \\\\\n",
      "        4c & -51.0 &  24.0 &  -7.5 &       3.93 &                    \\\\\n",
      "         5 & -60.0 &  21.0 &  15.0 &       4.45 &               1869 \\\\\n",
      "        5a & -43.5 &  24.0 &  13.5 &       3.74 &                    \\\\\n",
      "        5b & -57.0 &  25.5 &  22.5 &       3.68 &                    \\\\\n",
      "        5c & -36.0 &  19.5 &  19.5 &       3.52 &                    \\\\\n",
      "         6 & -43.5 &  10.5 &  43.5 &       4.31 &               1036 \\\\\n",
      "        6a & -39.0 &  13.5 &  37.5 &       3.86 &                    \\\\\n",
      "         7 &  -7.5 &  18.0 &  64.5 &       4.18 &                938 \\\\\n",
      "        7a &  -7.5 &  27.0 &  60.0 &       3.30 &                    \\\\\n",
      "         8 & -16.5 & -10.5 &  25.5 &       4.10 &                384 \\\\\n",
      "        8a & -16.5 &  -3.0 &  21.0 &       3.49 &                    \\\\\n",
      "\\bottomrule\n",
      "\\end{tabular}\n",
      "\n",
      "structure-verb\n",
      "\\begin{tabular}{lrrrrl}\n",
      "\\toprule\n",
      "Cluster ID &     X &     Y &     Z &  Peak Stat & Cluster Size (mm3) \\\\\n",
      "\\midrule\n",
      "         1 & -57.0 &   9.0 & -18.0 &       4.64 &                722 \\\\\n",
      "         2 & -63.0 & -49.5 &   3.0 &       4.32 &                742 \\\\\n",
      "         3 & -37.5 &   6.0 &  45.0 &       4.11 &                351 \\\\\n",
      "        3a & -45.0 &  10.5 &  43.5 &       3.66 &                    \\\\\n",
      "         4 & -45.0 &  25.5 & -18.0 &       3.99 &               1289 \\\\\n",
      "        4a & -54.0 &  21.0 &  -4.5 &       3.95 &                    \\\\\n",
      "        4b & -48.0 &  25.5 & -10.5 &       3.61 &                    \\\\\n",
      "         5 & -46.5 & -61.5 &  13.5 &       3.87 &                654 \\\\\n",
      "        5a & -49.5 & -55.5 &  19.5 &       3.64 &                    \\\\\n",
      "\\bottomrule\n",
      "\\end{tabular}\n",
      "\n",
      "type-phrase\n",
      "\\begin{tabular}{lrrrrl}\n",
      "\\toprule\n",
      "Cluster ID &     X &     Y &    Z &  Peak Stat & Cluster Size (mm3) \\\\\n",
      "\\midrule\n",
      "         1 & -57.0 & -51.0 &  4.5 &       4.16 &                631 \\\\\n",
      "        1a & -66.0 & -43.5 &  6.0 &       3.22 &                    \\\\\n",
      "\\bottomrule\n",
      "\\end{tabular}\n",
      "\n"
     ]
    }
   ],
   "source": [
    "for contrast in contrasts:\n",
    "    zmap_filename = op.join(sc.model_incremental_folder, 'contrasts', '{}_group_zmap.nii.gz'.format(contrast))\n",
    "    zmap = nib.load(zmap_filename)\n",
    "    cluster_table = get_clusters_table(zmap, stats.norm.isf(alpha), cluster_threshold=cluster_threshold)\n",
    "    cluster_table['Peak Stat'] = cluster_table['Peak Stat'].round(2)\n",
    "    print(contrast)\n",
    "    print(cluster_table.to_latex(index=False))"
   ]
  }
 ],
 "metadata": {
  "anaconda-cloud": {},
  "kernelspec": {
   "display_name": "Python 3",
   "language": "python",
   "name": "python3"
  },
  "language_info": {
   "codemirror_mode": {
    "name": "ipython",
    "version": 3
   },
   "file_extension": ".py",
   "mimetype": "text/x-python",
   "name": "python",
   "nbconvert_exporter": "python",
   "pygments_lexer": "ipython3",
   "version": "3.6.5"
  }
 },
 "nbformat": 4,
 "nbformat_minor": 2
}
