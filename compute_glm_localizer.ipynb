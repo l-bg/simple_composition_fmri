{
 "cells": [
  {
   "cell_type": "markdown",
   "metadata": {},
   "source": [
    "# An fMRI study of composition in noun and verb phrases\n",
    "### Bonnasse-Gahot, Bemis, Perez-Guevara, Dehaene, Pallier\n",
    "Compute general linear model (glm) for all subjects for the localizer."
   ]
  },
  {
   "cell_type": "code",
   "execution_count": 1,
   "metadata": {},
   "outputs": [],
   "source": [
    "import numpy as np\n",
    "import pandas as pd\n",
    "import os.path as op\n",
    "import glob\n",
    "from joblib import dump\n",
    "import nibabel as nib\n",
    "\n",
    "from nistats.first_level_model import FirstLevelModel\n",
    "\n",
    "import simpcomp as sc"
   ]
  },
  {
   "cell_type": "code",
   "execution_count": 2,
   "metadata": {},
   "outputs": [],
   "source": [
    "sc.make_dir(op.join(sc.localizer_folder, 'glm'))"
   ]
  },
  {
   "cell_type": "code",
   "execution_count": 3,
   "metadata": {
    "scrolled": true
   },
   "outputs": [],
   "source": [
    "mask_img = nib.load(op.join(sc.home_folder, 'derivatives', 'mask_simpcomp.nii'))\n",
    "\n",
    "def compute_glm_model(sub_id, input_path, output_path):\n",
    "    sub_glm_filename = op.join(output_path, 'glm_{}'.format(sub_id))\n",
    "    if op.isfile(sub_glm_filename):\n",
    "        print('{} skipped: file already exists\\n'.format(sub_id))\n",
    "        return\n",
    "    print('computing glm for {}'.format(sub_id))\n",
    "\n",
    "    fmri_img = op.join(input_path, sub_id, 'func', \n",
    "                    '{}_task-languagelocalizer_space-MNI152NLin2009cAsym_desc-preproc_bold.nii.gz'.format(sub_id))  \n",
    "\n",
    "    paradigm_filename = op.join(sc.events_folder, sub_id, 'func',\n",
    "                                '{}_task-languagelocalizer_events.tsv'.format(sub_id))\n",
    "    paradigm = pd.read_csv(paradigm_filename, sep='\\t')\n",
    "    paradigm = paradigm[paradigm.sequential_position==1][['onset', 'block_duration', 'block_condition']]\n",
    "    paradigm.rename(columns={'block_duration':'duration', 'block_condition': 'trial_type'}, inplace=True)\n",
    "\n",
    "    t_r = 1.5\n",
    "    slice_time_ref = 0.5\n",
    "    hrf_model = 'spm'\n",
    "    noise_model='ar1'\n",
    "    drift_model = 'cosine' #None\n",
    "    period_cut = 128. #s\n",
    "    signal_scaling = 0\n",
    "\n",
    "    # load confounds\n",
    "    confounds_filename = op.join(input_path, sub_id, 'func',\n",
    "                             '{}_task-languagelocalizer_desc-confounds_regressors.tsv'.format(sub_id))\n",
    "    confounds = pd.read_csv(confounds_filename, sep='\\t')\n",
    "    confounds = confounds[['trans_x', 'trans_y', 'trans_z', 'rot_x', 'rot_y', 'rot_z']\n",
    "                          +['a_comp_cor_{:02d}'.format(i) for i in range(6)]]\n",
    "    \n",
    "    fmri_glm = FirstLevelModel(t_r=t_r,\n",
    "                               slice_time_ref=slice_time_ref,\n",
    "                               noise_model='ar1',\n",
    "                               standardize=False,\n",
    "                               hrf_model=hrf_model,\n",
    "                               drift_model=drift_model,\n",
    "                               high_pass=1/period_cut,\n",
    "                               signal_scaling=signal_scaling,\n",
    "                               mask_img=mask_img,\n",
    "                               smoothing_fwhm=4,\n",
    "                               verbose=2,\n",
    "                               n_jobs=1)\n",
    "    fmri_glm = fmri_glm.fit(run_imgs=fmri_img, \n",
    "                            events=paradigm,\n",
    "                            confounds=confounds)\n",
    "\n",
    "    dump(fmri_glm, sub_glm_filename)\n",
    "    print('%s glm is computed and saved' % sub_id)"
   ]
  },
  {
   "cell_type": "code",
   "execution_count": 4,
   "metadata": {},
   "outputs": [
    {
     "name": "stdout",
     "output_type": "stream",
     "text": [
      "computing glm for sub-01\n"
     ]
    },
    {
     "name": "stderr",
     "output_type": "stream",
     "text": [
      "Computing run 1 out of 1 runs (go take a coffee, a big one)\n",
      "Masker took 41 seconds       \n",
      "GLM took 10 seconds         \n",
      "\n",
      "Computation of 1 runs done in 65 seconds\n",
      "\n"
     ]
    },
    {
     "name": "stdout",
     "output_type": "stream",
     "text": [
      "sub-01 glm is computed and saved\n",
      "computing glm for sub-02\n"
     ]
    },
    {
     "name": "stderr",
     "output_type": "stream",
     "text": [
      "Computing run 1 out of 1 runs (go take a coffee, a big one)\n",
      "Masker took 41 seconds       \n",
      "GLM took 9 seconds         \n",
      "\n",
      "Computation of 1 runs done in 64 seconds\n",
      "\n"
     ]
    },
    {
     "name": "stdout",
     "output_type": "stream",
     "text": [
      "sub-02 glm is computed and saved\n",
      "computing glm for sub-04\n"
     ]
    },
    {
     "name": "stderr",
     "output_type": "stream",
     "text": [
      "Computing run 1 out of 1 runs (go take a coffee, a big one)\n",
      "Masker took 41 seconds       \n",
      "GLM took 10 seconds         \n",
      "\n",
      "Computation of 1 runs done in 64 seconds\n",
      "\n"
     ]
    },
    {
     "name": "stdout",
     "output_type": "stream",
     "text": [
      "sub-04 glm is computed and saved\n",
      "computing glm for sub-05\n"
     ]
    },
    {
     "name": "stderr",
     "output_type": "stream",
     "text": [
      "Computing run 1 out of 1 runs (go take a coffee, a big one)\n",
      "Masker took 41 seconds       \n",
      "GLM took 9 seconds         \n",
      "\n",
      "Computation of 1 runs done in 64 seconds\n",
      "\n"
     ]
    },
    {
     "name": "stdout",
     "output_type": "stream",
     "text": [
      "sub-05 glm is computed and saved\n",
      "computing glm for sub-07\n"
     ]
    },
    {
     "name": "stderr",
     "output_type": "stream",
     "text": [
      "Computing run 1 out of 1 runs (go take a coffee, a big one)\n",
      "Masker took 41 seconds       \n",
      "GLM took 10 seconds         \n",
      "\n",
      "Computation of 1 runs done in 64 seconds\n",
      "\n"
     ]
    },
    {
     "name": "stdout",
     "output_type": "stream",
     "text": [
      "sub-07 glm is computed and saved\n",
      "computing glm for sub-08\n"
     ]
    },
    {
     "name": "stderr",
     "output_type": "stream",
     "text": [
      "Computing run 1 out of 1 runs (go take a coffee, a big one)\n",
      "Masker took 41 seconds       \n",
      "GLM took 9 seconds         \n",
      "\n",
      "Computation of 1 runs done in 64 seconds\n",
      "\n"
     ]
    },
    {
     "name": "stdout",
     "output_type": "stream",
     "text": [
      "sub-08 glm is computed and saved\n",
      "computing glm for sub-09\n"
     ]
    },
    {
     "name": "stderr",
     "output_type": "stream",
     "text": [
      "Computing run 1 out of 1 runs (go take a coffee, a big one)\n",
      "Masker took 41 seconds       \n",
      "GLM took 9 seconds         \n",
      "\n",
      "Computation of 1 runs done in 64 seconds\n",
      "\n"
     ]
    },
    {
     "name": "stdout",
     "output_type": "stream",
     "text": [
      "sub-09 glm is computed and saved\n",
      "computing glm for sub-10\n"
     ]
    },
    {
     "name": "stderr",
     "output_type": "stream",
     "text": [
      "Computing run 1 out of 1 runs (go take a coffee, a big one)\n",
      "Masker took 41 seconds       \n",
      "GLM took 10 seconds         \n",
      "\n",
      "Computation of 1 runs done in 64 seconds\n",
      "\n"
     ]
    },
    {
     "name": "stdout",
     "output_type": "stream",
     "text": [
      "sub-10 glm is computed and saved\n",
      "computing glm for sub-11\n"
     ]
    },
    {
     "name": "stderr",
     "output_type": "stream",
     "text": [
      "Computing run 1 out of 1 runs (go take a coffee, a big one)\n",
      "Masker took 41 seconds       \n",
      "GLM took 10 seconds         \n",
      "\n",
      "Computation of 1 runs done in 65 seconds\n",
      "\n"
     ]
    },
    {
     "name": "stdout",
     "output_type": "stream",
     "text": [
      "sub-11 glm is computed and saved\n",
      "computing glm for sub-13\n"
     ]
    },
    {
     "name": "stderr",
     "output_type": "stream",
     "text": [
      "Computing run 1 out of 1 runs (go take a coffee, a big one)\n",
      "Masker took 40 seconds       \n",
      "GLM took 10 seconds         \n",
      "\n",
      "Computation of 1 runs done in 63 seconds\n",
      "\n"
     ]
    },
    {
     "name": "stdout",
     "output_type": "stream",
     "text": [
      "sub-13 glm is computed and saved\n",
      "computing glm for sub-14\n"
     ]
    },
    {
     "name": "stderr",
     "output_type": "stream",
     "text": [
      "Computing run 1 out of 1 runs (go take a coffee, a big one)\n",
      "Masker took 41 seconds       \n",
      "GLM took 9 seconds         \n",
      "\n",
      "Computation of 1 runs done in 64 seconds\n",
      "\n"
     ]
    },
    {
     "name": "stdout",
     "output_type": "stream",
     "text": [
      "sub-14 glm is computed and saved\n",
      "computing glm for sub-15\n"
     ]
    },
    {
     "name": "stderr",
     "output_type": "stream",
     "text": [
      "Computing run 1 out of 1 runs (go take a coffee, a big one)\n",
      "Masker took 41 seconds       \n",
      "GLM took 9 seconds         \n",
      "\n",
      "Computation of 1 runs done in 63 seconds\n",
      "\n"
     ]
    },
    {
     "name": "stdout",
     "output_type": "stream",
     "text": [
      "sub-15 glm is computed and saved\n",
      "computing glm for sub-16\n"
     ]
    },
    {
     "name": "stderr",
     "output_type": "stream",
     "text": [
      "Computing run 1 out of 1 runs (go take a coffee, a big one)\n",
      "Masker took 41 seconds       \n",
      "GLM took 9 seconds         \n",
      "\n",
      "Computation of 1 runs done in 63 seconds\n",
      "\n"
     ]
    },
    {
     "name": "stdout",
     "output_type": "stream",
     "text": [
      "sub-16 glm is computed and saved\n",
      "computing glm for sub-17\n"
     ]
    },
    {
     "name": "stderr",
     "output_type": "stream",
     "text": [
      "Computing run 1 out of 1 runs (go take a coffee, a big one)\n",
      "Masker took 41 seconds       \n",
      "GLM took 9 seconds         \n",
      "\n",
      "Computation of 1 runs done in 62 seconds\n",
      "\n"
     ]
    },
    {
     "name": "stdout",
     "output_type": "stream",
     "text": [
      "sub-17 glm is computed and saved\n",
      "computing glm for sub-18\n"
     ]
    },
    {
     "name": "stderr",
     "output_type": "stream",
     "text": [
      "Computing run 1 out of 1 runs (go take a coffee, a big one)\n",
      "Masker took 41 seconds       \n",
      "GLM took 9 seconds         \n",
      "\n",
      "Computation of 1 runs done in 63 seconds\n",
      "\n"
     ]
    },
    {
     "name": "stdout",
     "output_type": "stream",
     "text": [
      "sub-18 glm is computed and saved\n"
     ]
    }
   ],
   "source": [
    "for sub_id in sc.subject_list:\n",
    "    compute_glm_model(sub_id, sc.fmri_data, op.join(sc.localizer_folder, 'glm'))"
   ]
  }
 ],
 "metadata": {
  "anaconda-cloud": {},
  "kernelspec": {
   "display_name": "Python 3",
   "language": "python",
   "name": "python3"
  },
  "language_info": {
   "codemirror_mode": {
    "name": "ipython",
    "version": 3
   },
   "file_extension": ".py",
   "mimetype": "text/x-python",
   "name": "python",
   "nbconvert_exporter": "python",
   "pygments_lexer": "ipython3",
   "version": "3.6.5"
  }
 },
 "nbformat": 4,
 "nbformat_minor": 2
}
